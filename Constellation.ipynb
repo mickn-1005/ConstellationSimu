{
 "cells": [
  {
   "cell_type": "markdown",
   "metadata": {},
   "source": [
    "# コンステレーション入門\n",
    "## Land Coverageの幾何"
   ]
  },
  {
   "cell_type": "code",
   "execution_count": 1,
   "metadata": {},
   "outputs": [
    {
     "name": "stderr",
     "output_type": "stream",
     "text": [
      "┌ Info: Precompiling Plots [91a5bcdd-55d7-5caf-9e0b-520d859cae80]\n",
      "└ @ Base loading.jl:1186\n"
     ]
    }
   ],
   "source": [
    "using Plots"
   ]
  },
  {
   "cell_type": "code",
   "execution_count": 2,
   "metadata": {},
   "outputs": [
    {
     "data": {
      "text/plain": [
       "6378.14"
      ]
     },
     "execution_count": 2,
     "metadata": {},
     "output_type": "execute_result"
    }
   ],
   "source": [
    "const r_e = 6378.14      # 赤道半径"
   ]
  },
  {
   "cell_type": "code",
   "execution_count": 3,
   "metadata": {},
   "outputs": [
    {
     "data": {
      "text/plain": [
       "ρ (generic function with 1 method)"
      ]
     },
     "execution_count": 3,
     "metadata": {},
     "output_type": "execute_result"
    }
   ],
   "source": [
    "ϕ(ε,h) = acos(r_e*cos(ε)/(r_e+h)) - ε      # 地心半角\n",
    "ρ(ϕ,ε) = r_e*sin(ϕ)/cos(ϕ+ε)                # 視線距離"
   ]
  },
  {
   "cell_type": "code",
   "execution_count": 4,
   "metadata": {},
   "outputs": [],
   "source": [
    "n=100\n",
    "phi = zeros(n,n)\n",
    "rho = zeros(n,n)\n",
    "h_range=range(0, stop=36000, length=n)\n",
    "ε_range=range(0, stop=0.15π, length=n)\n",
    "for (hind, h) in enumerate(h_range)\n",
    "    for (epsind, eps) in enumerate(ε_range)\n",
    "        kk = ϕ(eps,h)\n",
    "        phi[hind, epsind] = kk\n",
    "        rho[hind, epsind] = ρ(kk, eps)\n",
    "    end\n",
    "end"
   ]
  },
  {
   "cell_type": "markdown",
   "metadata": {},
   "source": [
    "地心半角と軌道パラメータの関係"
   ]
  },
  {
   "cell_type": "code",
   "execution_count": null,
   "metadata": {},
   "outputs": [],
   "source": [
    "heatmap(ε_range*360/2π, h_range, phi*360/2π)"
   ]
  },
  {
   "cell_type": "markdown",
   "metadata": {},
   "source": [
    "視線距離の軌道パラメータとの関係"
   ]
  },
  {
   "cell_type": "code",
   "execution_count": null,
   "metadata": {},
   "outputs": [],
   "source": [
    "heatmap(ε_range*360/2π, h_range, rho)"
   ]
  },
  {
   "cell_type": "code",
   "execution_count": null,
   "metadata": {},
   "outputs": [],
   "source": []
  }
 ],
 "metadata": {
  "kernelspec": {
   "display_name": "Julia 1.1.1",
   "language": "julia",
   "name": "julia-1.1"
  },
  "language_info": {
   "file_extension": ".jl",
   "mimetype": "application/julia",
   "name": "julia",
   "version": "1.0.3"
  }
 },
 "nbformat": 4,
 "nbformat_minor": 2
}
